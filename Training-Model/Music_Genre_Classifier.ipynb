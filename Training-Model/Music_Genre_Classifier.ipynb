{
 "cells": [
  {
   "cell_type": "markdown",
   "metadata": {},
   "source": [
    "# Preparing Dataset"
   ]
  },
  {
   "cell_type": "code",
   "execution_count": 1,
   "metadata": {},
   "outputs": [
    {
     "name": "stderr",
     "output_type": "stream",
     "text": [
      "Using TensorFlow backend.\n"
     ]
    }
   ],
   "source": [
    "import os\n",
    "import json\n",
    "import librosa \n",
    "import math\n",
    "import numpy as np\n",
    "from sklearn import model_selection\n",
    "import keras\n",
    "from keras.models import Sequential\n",
    "from keras.layers import Dense"
   ]
  },
  {
   "cell_type": "code",
   "execution_count": 2,
   "metadata": {},
   "outputs": [],
   "source": [
    "data_path=\"genres\"\n",
    "json_path=\"json_data.json\""
   ]
  },
  {
   "cell_type": "code",
   "execution_count": 3,
   "metadata": {},
   "outputs": [],
   "source": [
    "SR=22050\n",
    "dur=30\n",
    "total_samples=SR*dur"
   ]
  },
  {
   "cell_type": "code",
   "execution_count": 4,
   "metadata": {},
   "outputs": [],
   "source": [
    "def reverse_str(s):\n",
    "    ans=\"\"\n",
    "    for i in range(len(s)):\n",
    "        ans=s[i]+ans\n",
    "    return ans"
   ]
  },
  {
   "cell_type": "code",
   "execution_count": 5,
   "metadata": {},
   "outputs": [],
   "source": [
    "def prepare_data_mfcc(data_path,json_path,n_mfcc=13,n_fft=2048,hop_length=512,num_segments=10):\n",
    "    \n",
    "    data={\n",
    "        \"mapping\":[],  # Mapping of genre with the index\n",
    "        \"mfcc\":[],\n",
    "        \"labels\":[]\n",
    "    }\n",
    "    \n",
    "    for count,(dirpath,dirnames,filenames) in enumerate(os.walk(data_path)):\n",
    "        if dirpath==data_path:\n",
    "            continue\n",
    "        else:\n",
    "            \n",
    "            # Extracting the genre\n",
    "            \n",
    "            gen=\"\"\n",
    "            dirgen=reverse_str(dirpath)\n",
    "            for i in range(len(dirgen)):\n",
    "                if(dirgen[i]==\"\\\\\"):\n",
    "                   break\n",
    "                else:\n",
    "                   gen+=dirgen[i]\n",
    "            print(reverse_str(gen))\n",
    "            data[\"mapping\"].append(reverse_str(gen))\n",
    "            \n",
    "            # Now for each genre exploring all of the files\n",
    "    \n",
    "            for file in filenames:\n",
    "            \n",
    "                # loading audio file\n",
    "                \n",
    "                file_path=os.path.join(dirpath,file)\n",
    "                signal,sr=librosa.load(file_path,SR)\n",
    "                \n",
    "                # Chopping off into segments\n",
    "                \n",
    "                num_samples_per_segment=total_samples//num_segments\n",
    "                num_mfcc_vec_seg=math.ceil(num_samples_per_segment/hop_length)\n",
    "                \n",
    "                for segment in range(num_segments):\n",
    "                    \n",
    "                    start_seg=num_samples_per_segment*segment\n",
    "                    end_seg=start_seg+num_samples_per_segment\n",
    "                    mfcc_seg=librosa.feature.mfcc(signal[start_seg:end_seg],sr=SR,n_fft=n_fft,n_mfcc=n_mfcc,hop_length=hop_length)\n",
    "                    mfcc_seg=mfcc_seg.T \n",
    "                    \n",
    "                    # Stroring the mfcc if it has the expected length\n",
    "                    \n",
    "                    if len(mfcc_seg)==num_mfcc_vec_seg:\n",
    "                        data[\"mfcc\"].append(mfcc_seg.tolist())\n",
    "                        data[\"labels\"].append(count-1) \n",
    "    \n",
    "    with open(json_path,\"w\") as fp:\n",
    "        json.dump(data,fp,indent=4)    "
   ]
  },
  {
   "cell_type": "code",
   "execution_count": 6,
   "metadata": {},
   "outputs": [
    {
     "name": "stdout",
     "output_type": "stream",
     "text": [
      "blues\n",
      "classical\n",
      "country\n",
      "disco\n",
      "hiphop\n",
      "jazz\n",
      "metal\n",
      "pop\n",
      "reggae\n",
      "rock\n"
     ]
    }
   ],
   "source": [
    "prepare_data_mfcc(data_path,json_path)"
   ]
  },
  {
   "cell_type": "code",
   "execution_count": 7,
   "metadata": {},
   "outputs": [],
   "source": [
    "json_file=open(json_path)\n",
    "data=json.load(json_file)"
   ]
  },
  {
   "cell_type": "code",
   "execution_count": 8,
   "metadata": {},
   "outputs": [
    {
     "name": "stdout",
     "output_type": "stream",
     "text": [
      "10\n",
      "9996\n",
      "9996\n",
      "130\n"
     ]
    }
   ],
   "source": [
    "# Confirming the shapes of data\n",
    "\n",
    "print(len(data[\"mapping\"]))\n",
    "print(len(data[\"mfcc\"]))\n",
    "print(len(data[\"labels\"])) \n",
    "print(len(data[\"mfcc\"][0]))"
   ]
  },
  {
   "cell_type": "code",
   "execution_count": 9,
   "metadata": {},
   "outputs": [
    {
     "name": "stdout",
     "output_type": "stream",
     "text": [
      "Size of Train_Data= 7996\n",
      "Size of Test_Data= 2000\n"
     ]
    }
   ],
   "source": [
    "# Train_Test Split\n",
    "\n",
    "X_Train,X_Test,Y_Train,Y_Test=model_selection.train_test_split(data[\"mfcc\"],data[\"labels\"],test_size=0.2)\n",
    "print(\"Size of Train_Data=\",len(X_Train))\n",
    "print(\"Size of Test_Data=\",len(X_Test))"
   ]
  },
  {
   "cell_type": "code",
   "execution_count": 10,
   "metadata": {},
   "outputs": [
    {
     "name": "stdout",
     "output_type": "stream",
     "text": [
      "(7996, 130, 13)\n",
      "(2000, 130, 13)\n",
      "(2000, 130, 13, 1)\n"
     ]
    }
   ],
   "source": [
    "# Since CNN expects a 3rd dimension i.e the depth\n",
    "\n",
    "np_arr_train=np.array(X_Train)\n",
    "print(np_arr_train.shape)\n",
    "np_arr_train=np_arr_train.reshape(7996,130,13,1)\n",
    "\n",
    "np_arr_test=np.array(X_Test)\n",
    "print(np_arr_test.shape)\n",
    "\n",
    "np_arr_test=np_arr_test.reshape(2000,130,13,1)\n",
    "print(np_arr_test.shape)\n",
    "\n",
    "X_Train=np_arr_train\n",
    "X_Test=np_arr_test"
   ]
  },
  {
   "cell_type": "markdown",
   "metadata": {},
   "source": [
    "# Building the Architecture of the model"
   ]
  },
  {
   "cell_type": "code",
   "execution_count": 11,
   "metadata": {},
   "outputs": [],
   "source": [
    "def build_architecture(data_shape):\n",
    "    model=keras.Sequential()\n",
    "    print(data_shape)\n",
    "    # 1st Convolutional Layer\n",
    "    \n",
    "    model.add(keras.layers.Conv2D(32,(3,3),activation=\"relu\",input_shape=data_shape,data_format=\"channels_last\"))\n",
    "    model.add(keras.layers.MaxPool2D((3,3),strides=(2,2),padding=\"same\"))\n",
    "    \n",
    "    #2nd Convolutional Layer\n",
    "    \n",
    "    model.add(keras.layers.Conv2D(32,(3,3),activation=\"relu\",data_format=\"channels_last\"))\n",
    "    model.add(keras.layers.MaxPool2D((3,3),strides=(2,2),padding=\"same\"))\n",
    "    \n",
    "    # Flattening the data\n",
    "    \n",
    "    model.add(keras.layers.Flatten())\n",
    "    \n",
    "    # Dense Layer\n",
    "    \n",
    "    model.add(keras.layers.Dense(32,activation=\"relu\"))\n",
    "    \n",
    "    # Dropout\n",
    "    \n",
    "    model.add(keras.layers.Dropout(0.3))\n",
    "    \n",
    "    # Output Layer\n",
    "    \n",
    "    model.add(keras.layers.Dense(10,activation=\"softmax\"))\n",
    "    \n",
    "    return model"
   ]
  },
  {
   "cell_type": "code",
   "execution_count": 12,
   "metadata": {},
   "outputs": [
    {
     "name": "stdout",
     "output_type": "stream",
     "text": [
      "(130, 13, 1)\n",
      "WARNING:tensorflow:From C:\\Users\\Dell\\Anaconda3\\lib\\site-packages\\tensorflow_core\\python\\ops\\resource_variable_ops.py:1630: calling BaseResourceVariable.__init__ (from tensorflow.python.ops.resource_variable_ops) with constraint is deprecated and will be removed in a future version.\n",
      "Instructions for updating:\n",
      "If using Keras pass *_constraint arguments to layers.\n",
      "WARNING:tensorflow:From C:\\Users\\Dell\\Anaconda3\\lib\\site-packages\\keras\\backend\\tensorflow_backend.py:4070: The name tf.nn.max_pool is deprecated. Please use tf.nn.max_pool2d instead.\n",
      "\n"
     ]
    }
   ],
   "source": [
    "model=build_architecture((130,13,1))"
   ]
  },
  {
   "cell_type": "markdown",
   "metadata": {},
   "source": [
    "# Compiling the Model"
   ]
  },
  {
   "cell_type": "code",
   "execution_count": 13,
   "metadata": {},
   "outputs": [],
   "source": [
    "\n",
    "optimizer=keras.optimizers.Adam(learning_rate=0.0001)\n",
    "\n",
    "# I have used sparse categorical cross entropy because we don't have to provide labels as one hot encoding in this\n",
    "\n",
    "model.compile(optimizer=optimizer,loss=\"sparse_categorical_crossentropy\",metrics=[\"accuracy\"])"
   ]
  },
  {
   "cell_type": "code",
   "execution_count": 14,
   "metadata": {},
   "outputs": [],
   "source": [
    "# Creating Validation Data from Train Data\n",
    "\n",
    "X_Train,X_Valid,Y_Train,Y_Valid=model_selection.train_test_split(X_Train,Y_Train,test_size=0.2)"
   ]
  },
  {
   "cell_type": "code",
   "execution_count": 15,
   "metadata": {},
   "outputs": [
    {
     "name": "stdout",
     "output_type": "stream",
     "text": [
      "WARNING:tensorflow:From C:\\Users\\Dell\\Anaconda3\\lib\\site-packages\\keras\\backend\\tensorflow_backend.py:422: The name tf.global_variables is deprecated. Please use tf.compat.v1.global_variables instead.\n",
      "\n",
      "Train on 6396 samples, validate on 1600 samples\n",
      "Epoch 1/100\n",
      "6396/6396 [==============================] - 7s 1ms/step - loss: 4.5359 - accuracy: 0.1692 - val_loss: 2.1099 - val_accuracy: 0.2225\n",
      "Epoch 2/100\n",
      "6396/6396 [==============================] - 7s 1ms/step - loss: 2.1368 - accuracy: 0.2136 - val_loss: 2.0306 - val_accuracy: 0.2412\n",
      "Epoch 3/100\n",
      "6396/6396 [==============================] - 7s 1ms/step - loss: 2.0941 - accuracy: 0.2189 - val_loss: 1.9915 - val_accuracy: 0.2481\n",
      "Epoch 4/100\n",
      "6396/6396 [==============================] - 7s 1ms/step - loss: 2.0650 - accuracy: 0.2273 - val_loss: 1.9557 - val_accuracy: 0.2850\n",
      "Epoch 5/100\n",
      "6396/6396 [==============================] - 7s 1ms/step - loss: 2.0177 - accuracy: 0.2595 - val_loss: 1.9047 - val_accuracy: 0.3044\n",
      "Epoch 6/100\n",
      "6396/6396 [==============================] - 8s 1ms/step - loss: 1.9995 - accuracy: 0.2634 - val_loss: 1.9005 - val_accuracy: 0.3044\n",
      "Epoch 7/100\n",
      "6396/6396 [==============================] - 7s 1ms/step - loss: 1.9691 - accuracy: 0.2706 - val_loss: 1.8556 - val_accuracy: 0.3413\n",
      "Epoch 8/100\n",
      "6396/6396 [==============================] - 7s 1ms/step - loss: 1.9264 - accuracy: 0.2960 - val_loss: 1.8158 - val_accuracy: 0.3531\n",
      "Epoch 9/100\n",
      "6396/6396 [==============================] - 8s 1ms/step - loss: 1.8867 - accuracy: 0.3157 - val_loss: 1.7437 - val_accuracy: 0.3837\n",
      "Epoch 10/100\n",
      "6396/6396 [==============================] - 7s 1ms/step - loss: 1.8654 - accuracy: 0.3163 - val_loss: 1.7603 - val_accuracy: 0.3844\n",
      "Epoch 11/100\n",
      "6396/6396 [==============================] - 7s 1ms/step - loss: 1.8473 - accuracy: 0.3174 - val_loss: 1.7113 - val_accuracy: 0.3856\n",
      "Epoch 12/100\n",
      "6396/6396 [==============================] - 7s 1ms/step - loss: 1.8074 - accuracy: 0.3327 - val_loss: 1.7126 - val_accuracy: 0.3919\n",
      "Epoch 13/100\n",
      "6396/6396 [==============================] - 7s 1ms/step - loss: 1.7798 - accuracy: 0.3310 - val_loss: 1.6707 - val_accuracy: 0.4019\n",
      "Epoch 14/100\n",
      "6396/6396 [==============================] - 7s 1ms/step - loss: 1.7701 - accuracy: 0.3388 - val_loss: 1.6531 - val_accuracy: 0.4050\n",
      "Epoch 15/100\n",
      "6396/6396 [==============================] - 7s 1ms/step - loss: 1.7439 - accuracy: 0.3386 - val_loss: 1.6352 - val_accuracy: 0.4137\n",
      "Epoch 16/100\n",
      "6396/6396 [==============================] - 7s 1ms/step - loss: 1.7200 - accuracy: 0.3533 - val_loss: 1.6102 - val_accuracy: 0.3944\n",
      "Epoch 17/100\n",
      "6396/6396 [==============================] - 8s 1ms/step - loss: 1.6930 - accuracy: 0.3563 - val_loss: 1.5829 - val_accuracy: 0.4112\n",
      "Epoch 18/100\n",
      "6396/6396 [==============================] - 7s 1ms/step - loss: 1.6921 - accuracy: 0.3546 - val_loss: 1.5773 - val_accuracy: 0.4288\n",
      "Epoch 19/100\n",
      "6396/6396 [==============================] - 7s 1ms/step - loss: 1.6640 - accuracy: 0.3649 - val_loss: 1.6128 - val_accuracy: 0.3938\n",
      "Epoch 20/100\n",
      "6396/6396 [==============================] - 7s 1ms/step - loss: 1.6475 - accuracy: 0.3651 - val_loss: 1.5293 - val_accuracy: 0.4363\n",
      "Epoch 21/100\n",
      "6396/6396 [==============================] - 7s 1ms/step - loss: 1.6121 - accuracy: 0.3812 - val_loss: 1.5506 - val_accuracy: 0.4256\n",
      "Epoch 22/100\n",
      "6396/6396 [==============================] - 7s 1ms/step - loss: 1.5988 - accuracy: 0.3771 - val_loss: 1.4919 - val_accuracy: 0.4494\n",
      "Epoch 23/100\n",
      "6396/6396 [==============================] - 7s 1ms/step - loss: 1.5819 - accuracy: 0.3865 - val_loss: 1.4738 - val_accuracy: 0.4500\n",
      "Epoch 24/100\n",
      "6396/6396 [==============================] - 7s 1ms/step - loss: 1.5567 - accuracy: 0.3987 - val_loss: 1.4791 - val_accuracy: 0.4569\n",
      "Epoch 25/100\n",
      "6396/6396 [==============================] - 7s 1ms/step - loss: 1.5544 - accuracy: 0.4103 - val_loss: 1.4750 - val_accuracy: 0.4550\n",
      "Epoch 26/100\n",
      "6396/6396 [==============================] - 7s 1ms/step - loss: 1.5336 - accuracy: 0.4114 - val_loss: 1.4366 - val_accuracy: 0.4688\n",
      "Epoch 27/100\n",
      "6396/6396 [==============================] - 7s 1ms/step - loss: 1.5270 - accuracy: 0.4110 - val_loss: 1.3926 - val_accuracy: 0.4919\n",
      "Epoch 28/100\n",
      "6396/6396 [==============================] - 8s 1ms/step - loss: 1.4900 - accuracy: 0.4323 - val_loss: 1.3856 - val_accuracy: 0.4888\n",
      "Epoch 29/100\n",
      "6396/6396 [==============================] - 7s 1ms/step - loss: 1.4754 - accuracy: 0.4303 - val_loss: 1.3892 - val_accuracy: 0.4881\n",
      "Epoch 30/100\n",
      "6396/6396 [==============================] - 7s 1ms/step - loss: 1.4534 - accuracy: 0.4325 - val_loss: 1.4029 - val_accuracy: 0.4944\n",
      "Epoch 31/100\n",
      "6396/6396 [==============================] - 7s 1ms/step - loss: 1.4539 - accuracy: 0.4482 - val_loss: 1.3535 - val_accuracy: 0.5181\n",
      "Epoch 32/100\n",
      "6396/6396 [==============================] - 7s 1ms/step - loss: 1.4057 - accuracy: 0.4481 - val_loss: 1.3319 - val_accuracy: 0.5038\n",
      "Epoch 33/100\n",
      "6396/6396 [==============================] - 8s 1ms/step - loss: 1.3981 - accuracy: 0.4528 - val_loss: 1.3200 - val_accuracy: 0.5263\n",
      "Epoch 34/100\n",
      "6396/6396 [==============================] - 8s 1ms/step - loss: 1.3678 - accuracy: 0.4697 - val_loss: 1.3482 - val_accuracy: 0.5163\n",
      "Epoch 35/100\n",
      "6396/6396 [==============================] - 7s 1ms/step - loss: 1.3607 - accuracy: 0.4733 - val_loss: 1.2997 - val_accuracy: 0.5306\n",
      "Epoch 36/100\n",
      "6396/6396 [==============================] - 7s 1ms/step - loss: 1.3218 - accuracy: 0.4864 - val_loss: 1.3051 - val_accuracy: 0.5256\n",
      "Epoch 37/100\n",
      "6396/6396 [==============================] - 7s 1ms/step - loss: 1.3104 - accuracy: 0.4987 - val_loss: 1.3003 - val_accuracy: 0.5200\n",
      "Epoch 38/100\n",
      "6396/6396 [==============================] - 7s 1ms/step - loss: 1.3075 - accuracy: 0.4961 - val_loss: 1.2797 - val_accuracy: 0.5450\n",
      "Epoch 39/100\n",
      "6396/6396 [==============================] - 7s 1ms/step - loss: 1.2803 - accuracy: 0.5072 - val_loss: 1.2766 - val_accuracy: 0.5437\n",
      "Epoch 40/100\n",
      "6396/6396 [==============================] - 7s 1ms/step - loss: 1.2758 - accuracy: 0.5106 - val_loss: 1.2734 - val_accuracy: 0.5444\n",
      "Epoch 41/100\n",
      "6396/6396 [==============================] - 7s 1ms/step - loss: 1.2489 - accuracy: 0.5250 - val_loss: 1.2813 - val_accuracy: 0.5437\n",
      "Epoch 42/100\n",
      "6396/6396 [==============================] - 7s 1ms/step - loss: 1.2533 - accuracy: 0.5225 - val_loss: 1.2340 - val_accuracy: 0.5537\n",
      "Epoch 43/100\n",
      "6396/6396 [==============================] - 7s 1ms/step - loss: 1.2333 - accuracy: 0.5269 - val_loss: 1.2342 - val_accuracy: 0.5569\n",
      "Epoch 44/100\n",
      "6396/6396 [==============================] - 7s 1ms/step - loss: 1.2054 - accuracy: 0.5356 - val_loss: 1.2474 - val_accuracy: 0.5612\n",
      "Epoch 45/100\n",
      "6396/6396 [==============================] - 7s 1ms/step - loss: 1.1997 - accuracy: 0.5439 - val_loss: 1.2311 - val_accuracy: 0.5650\n",
      "Epoch 46/100\n",
      "6396/6396 [==============================] - 7s 1ms/step - loss: 1.1968 - accuracy: 0.5394 - val_loss: 1.2199 - val_accuracy: 0.5644\n",
      "Epoch 47/100\n",
      "6396/6396 [==============================] - 7s 1ms/step - loss: 1.1671 - accuracy: 0.5604 - val_loss: 1.2339 - val_accuracy: 0.5556\n",
      "Epoch 48/100\n",
      "6396/6396 [==============================] - 7s 1ms/step - loss: 1.1557 - accuracy: 0.5596 - val_loss: 1.2195 - val_accuracy: 0.5700\n",
      "Epoch 49/100\n",
      "6396/6396 [==============================] - 7s 1ms/step - loss: 1.1630 - accuracy: 0.5543 - val_loss: 1.2284 - val_accuracy: 0.5700\n",
      "Epoch 50/100\n",
      "6396/6396 [==============================] - 7s 1ms/step - loss: 1.1531 - accuracy: 0.5624 - val_loss: 1.1797 - val_accuracy: 0.5894\n",
      "Epoch 51/100\n",
      "6396/6396 [==============================] - 7s 1ms/step - loss: 1.1245 - accuracy: 0.5760 - val_loss: 1.2211 - val_accuracy: 0.5606\n",
      "Epoch 52/100\n",
      "6396/6396 [==============================] - 7s 1ms/step - loss: 1.1211 - accuracy: 0.5668 - val_loss: 1.1697 - val_accuracy: 0.5744\n",
      "Epoch 53/100\n",
      "6396/6396 [==============================] - 7s 1ms/step - loss: 1.1053 - accuracy: 0.5749 - val_loss: 1.1829 - val_accuracy: 0.5850\n",
      "Epoch 54/100\n",
      "6396/6396 [==============================] - 7s 1ms/step - loss: 1.0938 - accuracy: 0.5771 - val_loss: 1.2166 - val_accuracy: 0.5725\n",
      "Epoch 55/100\n"
     ]
    },
    {
     "name": "stdout",
     "output_type": "stream",
     "text": [
      "6396/6396 [==============================] - 7s 1ms/step - loss: 1.0903 - accuracy: 0.5818 - val_loss: 1.1881 - val_accuracy: 0.5888\n",
      "Epoch 56/100\n",
      "6396/6396 [==============================] - 7s 1ms/step - loss: 1.0944 - accuracy: 0.5782 - val_loss: 1.1550 - val_accuracy: 0.5913\n",
      "Epoch 57/100\n",
      "6396/6396 [==============================] - 7s 1ms/step - loss: 1.0731 - accuracy: 0.5910 - val_loss: 1.1432 - val_accuracy: 0.5969\n",
      "Epoch 58/100\n",
      "6396/6396 [==============================] - 7s 1ms/step - loss: 1.0599 - accuracy: 0.5901 - val_loss: 1.1690 - val_accuracy: 0.5944\n",
      "Epoch 59/100\n",
      "6396/6396 [==============================] - 7s 1ms/step - loss: 1.0538 - accuracy: 0.6007 - val_loss: 1.1383 - val_accuracy: 0.5938\n",
      "Epoch 60/100\n",
      "6396/6396 [==============================] - 7s 1ms/step - loss: 1.0453 - accuracy: 0.6016 - val_loss: 1.1737 - val_accuracy: 0.5987\n",
      "Epoch 61/100\n",
      "6396/6396 [==============================] - 7s 1ms/step - loss: 1.0200 - accuracy: 0.6146 - val_loss: 1.1912 - val_accuracy: 0.5769\n",
      "Epoch 62/100\n",
      "6396/6396 [==============================] - 7s 1ms/step - loss: 1.0339 - accuracy: 0.5976 - val_loss: 1.1533 - val_accuracy: 0.5863\n",
      "Epoch 63/100\n",
      "6396/6396 [==============================] - 7s 1ms/step - loss: 1.0247 - accuracy: 0.6083 - val_loss: 1.1208 - val_accuracy: 0.6125\n",
      "Epoch 64/100\n",
      "6396/6396 [==============================] - 7s 1ms/step - loss: 1.0080 - accuracy: 0.6132 - val_loss: 1.1384 - val_accuracy: 0.6012\n",
      "Epoch 65/100\n",
      "6396/6396 [==============================] - 7s 1ms/step - loss: 0.9972 - accuracy: 0.6138 - val_loss: 1.1439 - val_accuracy: 0.6112\n",
      "Epoch 66/100\n",
      "6396/6396 [==============================] - 7s 1ms/step - loss: 0.9905 - accuracy: 0.6180 - val_loss: 1.1297 - val_accuracy: 0.6050\n",
      "Epoch 67/100\n",
      "6396/6396 [==============================] - 7s 1ms/step - loss: 0.9753 - accuracy: 0.6257 - val_loss: 1.1089 - val_accuracy: 0.6206\n",
      "Epoch 68/100\n",
      "6396/6396 [==============================] - 7s 1ms/step - loss: 0.9722 - accuracy: 0.6245 - val_loss: 1.1144 - val_accuracy: 0.6094\n",
      "Epoch 69/100\n",
      "6396/6396 [==============================] - 7s 1ms/step - loss: 0.9584 - accuracy: 0.6304 - val_loss: 1.1183 - val_accuracy: 0.6087\n",
      "Epoch 70/100\n",
      "6396/6396 [==============================] - 7s 1ms/step - loss: 0.9614 - accuracy: 0.6249 - val_loss: 1.1147 - val_accuracy: 0.6162\n",
      "Epoch 71/100\n",
      "6396/6396 [==============================] - 7s 1ms/step - loss: 0.9635 - accuracy: 0.6290 - val_loss: 1.1250 - val_accuracy: 0.6112\n",
      "Epoch 72/100\n",
      "6396/6396 [==============================] - 7s 1ms/step - loss: 0.9455 - accuracy: 0.6327 - val_loss: 1.1551 - val_accuracy: 0.6150\n",
      "Epoch 73/100\n",
      "6396/6396 [==============================] - 7s 1ms/step - loss: 0.9355 - accuracy: 0.6402 - val_loss: 1.1275 - val_accuracy: 0.6137\n",
      "Epoch 74/100\n",
      "6396/6396 [==============================] - 7s 1ms/step - loss: 0.9278 - accuracy: 0.6443 - val_loss: 1.1066 - val_accuracy: 0.6081\n",
      "Epoch 75/100\n",
      "6396/6396 [==============================] - 7s 1ms/step - loss: 0.9237 - accuracy: 0.6474 - val_loss: 1.1026 - val_accuracy: 0.6119\n",
      "Epoch 76/100\n",
      "6396/6396 [==============================] - 7s 1ms/step - loss: 0.9125 - accuracy: 0.6498 - val_loss: 1.0988 - val_accuracy: 0.6156\n",
      "Epoch 77/100\n",
      "6396/6396 [==============================] - 7s 1ms/step - loss: 0.9019 - accuracy: 0.6542 - val_loss: 1.1160 - val_accuracy: 0.6187\n",
      "Epoch 78/100\n",
      "6396/6396 [==============================] - 7s 1ms/step - loss: 0.9023 - accuracy: 0.6529 - val_loss: 1.1208 - val_accuracy: 0.6162\n",
      "Epoch 79/100\n",
      "6396/6396 [==============================] - 7s 1ms/step - loss: 0.8937 - accuracy: 0.6581 - val_loss: 1.1023 - val_accuracy: 0.6331\n",
      "Epoch 80/100\n",
      "6396/6396 [==============================] - 7s 1ms/step - loss: 0.8786 - accuracy: 0.6603 - val_loss: 1.0940 - val_accuracy: 0.6219\n",
      "Epoch 81/100\n",
      "6396/6396 [==============================] - 7s 1ms/step - loss: 0.9010 - accuracy: 0.6571 - val_loss: 1.1380 - val_accuracy: 0.6156\n",
      "Epoch 82/100\n",
      "6396/6396 [==============================] - 7s 1ms/step - loss: 0.8714 - accuracy: 0.6607 - val_loss: 1.1122 - val_accuracy: 0.6263\n",
      "Epoch 83/100\n",
      "6396/6396 [==============================] - 7s 1ms/step - loss: 0.8622 - accuracy: 0.6726 - val_loss: 1.0985 - val_accuracy: 0.6263\n",
      "Epoch 84/100\n",
      "6396/6396 [==============================] - 7s 1ms/step - loss: 0.8521 - accuracy: 0.6720 - val_loss: 1.1065 - val_accuracy: 0.6237\n",
      "Epoch 85/100\n",
      "6396/6396 [==============================] - 7s 1ms/step - loss: 0.8406 - accuracy: 0.6740 - val_loss: 1.1142 - val_accuracy: 0.6263\n",
      "Epoch 86/100\n",
      "6396/6396 [==============================] - 7s 1ms/step - loss: 0.8455 - accuracy: 0.6779 - val_loss: 1.0950 - val_accuracy: 0.6331\n",
      "Epoch 87/100\n",
      "6396/6396 [==============================] - 7s 1ms/step - loss: 0.8542 - accuracy: 0.6753 - val_loss: 1.1067 - val_accuracy: 0.6294\n",
      "Epoch 88/100\n",
      "6396/6396 [==============================] - 7s 1ms/step - loss: 0.8427 - accuracy: 0.6771 - val_loss: 1.1091 - val_accuracy: 0.6294\n",
      "Epoch 89/100\n",
      "6396/6396 [==============================] - 7s 1ms/step - loss: 0.8233 - accuracy: 0.6834 - val_loss: 1.1109 - val_accuracy: 0.6363\n",
      "Epoch 90/100\n",
      "6396/6396 [==============================] - 7s 1ms/step - loss: 0.8159 - accuracy: 0.6881 - val_loss: 1.1415 - val_accuracy: 0.6144\n",
      "Epoch 91/100\n",
      "6396/6396 [==============================] - 7s 1ms/step - loss: 0.8104 - accuracy: 0.6878 - val_loss: 1.0957 - val_accuracy: 0.6388\n",
      "Epoch 92/100\n",
      "6396/6396 [==============================] - 7s 1ms/step - loss: 0.8088 - accuracy: 0.6898 - val_loss: 1.1279 - val_accuracy: 0.6381\n",
      "Epoch 93/100\n",
      "6396/6396 [==============================] - 7s 1ms/step - loss: 0.8003 - accuracy: 0.6918 - val_loss: 1.1079 - val_accuracy: 0.6369\n",
      "Epoch 94/100\n",
      "6396/6396 [==============================] - 7s 1ms/step - loss: 0.8010 - accuracy: 0.7039 - val_loss: 1.1109 - val_accuracy: 0.6438\n",
      "Epoch 95/100\n",
      "6396/6396 [==============================] - 7s 1ms/step - loss: 0.7900 - accuracy: 0.6937 - val_loss: 1.1396 - val_accuracy: 0.6256\n",
      "Epoch 96/100\n",
      "6396/6396 [==============================] - 7s 1ms/step - loss: 0.7978 - accuracy: 0.6950 - val_loss: 1.0975 - val_accuracy: 0.6419\n",
      "Epoch 97/100\n",
      "6396/6396 [==============================] - 7s 1ms/step - loss: 0.7657 - accuracy: 0.7086 - val_loss: 1.1316 - val_accuracy: 0.6237\n",
      "Epoch 98/100\n",
      "6396/6396 [==============================] - 7s 1ms/step - loss: 0.7792 - accuracy: 0.7004 - val_loss: 1.1316 - val_accuracy: 0.6325\n",
      "Epoch 99/100\n",
      "6396/6396 [==============================] - 7s 1ms/step - loss: 0.7690 - accuracy: 0.7050 - val_loss: 1.1250 - val_accuracy: 0.6325\n",
      "Epoch 100/100\n",
      "6396/6396 [==============================] - 7s 1ms/step - loss: 0.7694 - accuracy: 0.7018 - val_loss: 1.1506 - val_accuracy: 0.6288\n"
     ]
    },
    {
     "data": {
      "text/plain": [
       "<keras.callbacks.callbacks.History at 0x1c2b67a8518>"
      ]
     },
     "execution_count": 15,
     "metadata": {},
     "output_type": "execute_result"
    }
   ],
   "source": [
    "#  Training the CNN\n",
    "\n",
    "model.fit(X_Train,Y_Train,validation_data=(X_Valid,Y_Valid),batch_size=64,epochs=100)\n",
    "\n",
    "# Concentrate on validation_accuracy"
   ]
  },
  {
   "cell_type": "markdown",
   "metadata": {},
   "source": [
    "# Predicting on Test Data"
   ]
  },
  {
   "cell_type": "code",
   "execution_count": 16,
   "metadata": {},
   "outputs": [],
   "source": [
    "Y_Pred_onehot=model.predict(X_Test)\n",
    "\n",
    "# Y_Pred single query is a 10 sized array so we need to take the maximum one\n",
    "\n",
    "Y_Pred=[]\n",
    "\n",
    "for i in range(len(Y_Pred_onehot)):\n",
    "    predicted_index=0\n",
    "    maxpred=0\n",
    "    for j in range(10):\n",
    "        if(Y_Pred_onehot[i][j]>maxpred):\n",
    "            maxpred=Y_Pred_onehot[i][j]\n",
    "            predicted_index=j\n",
    "    Y_Pred.append(predicted_index)\n"
   ]
  },
  {
   "cell_type": "code",
   "execution_count": 22,
   "metadata": {},
   "outputs": [
    {
     "name": "stdout",
     "output_type": "stream",
     "text": [
      "The actual genre is disco\n",
      "The predicted genre is disco\n"
     ]
    }
   ],
   "source": [
    "print(\"The actual genre is\",data[\"mapping\"][Y_Test[500]])\n",
    "print(\"The predicted genre is\",data[\"mapping\"][Y_Pred[500]])"
   ]
  },
  {
   "cell_type": "code",
   "execution_count": 18,
   "metadata": {},
   "outputs": [
    {
     "name": "stdout",
     "output_type": "stream",
     "text": [
      "2000/2000 [==============================] - 1s 272us/step\n",
      "The error and accuracy of the model on test set is 1.145840247631073 and 0.6315000057220459\n"
     ]
    }
   ],
   "source": [
    "test_error,test_accuracy=model.evaluate(X_Test,Y_Test)\n",
    "print(\"The error and accuracy of the model on test set is\",test_error,\"and\",test_accuracy)"
   ]
  }
 ],
 "metadata": {
  "kernelspec": {
   "display_name": "Python 3",
   "language": "python",
   "name": "python3"
  },
  "language_info": {
   "codemirror_mode": {
    "name": "ipython",
    "version": 3
   },
   "file_extension": ".py",
   "mimetype": "text/x-python",
   "name": "python",
   "nbconvert_exporter": "python",
   "pygments_lexer": "ipython3",
   "version": "3.7.3"
  }
 },
 "nbformat": 4,
 "nbformat_minor": 2
}
